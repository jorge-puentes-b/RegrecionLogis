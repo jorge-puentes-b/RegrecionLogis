{
  "nbformat": 4,
  "nbformat_minor": 0,
  "metadata": {
    "colab": {
      "provenance": [],
      "authorship_tag": "ABX9TyOZJGF5/+BUfeQU40WOiJ6a",
      "include_colab_link": true
    },
    "kernelspec": {
      "name": "python3",
      "display_name": "Python 3"
    },
    "language_info": {
      "name": "python"
    }
  },
  "cells": [
    {
      "cell_type": "markdown",
      "metadata": {
        "id": "view-in-github",
        "colab_type": "text"
      },
      "source": [
        "<a href=\"https://colab.research.google.com/github/jorge-puentes-b/RegrecionLogis/blob/main/TP1/Untitled4.ipynb\" target=\"_parent\"><img src=\"https://colab.research.google.com/assets/colab-badge.svg\" alt=\"Open In Colab\"/></a>"
      ]
    },
    {
      "cell_type": "code",
      "execution_count": null,
      "metadata": {
        "colab": {
          "base_uri": "https://localhost:8080/",
          "height": 1000
        },
        "id": "XY1pA7UMs2x0",
        "outputId": "a96c31b6-0045-4641-c998-e2c0352abf1f"
      },
      "outputs": [
        {
          "output_type": "stream",
          "name": "stdout",
          "text": [
            "Mounted at /content/drive\n",
            "\n",
            "Los datos son de tipo:\n",
            " Age              int64\n",
            "BMI              int64\n",
            "BloodPressure    int64\n",
            "Glucose          int64\n",
            "Insulin          int64\n",
            "Outcome          int64\n",
            "dtype: object\n",
            "   Age                BMI  BloodPressure  Glucose            Insulin  Outcome\n",
            "0   56  37124958913082000             83      147  37195511891017800        0\n",
            "1   69  28256628315872500            122      159  21643902491999300        1\n",
            "2   46  26025804043704000            133       90     27721087677108        0\n",
            "3   32   2511213624204620            116      123   9214482722599330        1\n",
            "4   60  29310693985836600             67      172  12059005956196100        0\n",
            "<class 'pandas.core.frame.DataFrame'>\n",
            "RangeIndex: 2000 entries, 0 to 1999\n",
            "Data columns (total 6 columns):\n",
            " #   Column         Non-Null Count  Dtype\n",
            "---  ------         --------------  -----\n",
            " 0   Age            2000 non-null   int64\n",
            " 1   BMI            2000 non-null   int64\n",
            " 2   BloodPressure  2000 non-null   int64\n",
            " 3   Glucose        2000 non-null   int64\n",
            " 4   Insulin        2000 non-null   int64\n",
            " 5   Outcome        2000 non-null   int64\n",
            "dtypes: int64(6)\n",
            "memory usage: 93.9 KB\n",
            "None\n",
            "               Age           BMI  BloodPressure      Glucose       Insulin  \\\n",
            "count  2000.000000  2.000000e+03    2000.000000  2000.000000  2.000000e+03   \n",
            "mean     49.114000  1.478758e+16      99.765500   135.321000  1.284385e+16   \n",
            "std      17.926564  1.232867e+16      22.853307    37.509725  1.069124e+16   \n",
            "min      18.000000  2.158289e+12      60.000000    70.000000  2.704332e+12   \n",
            "25%      34.000000  3.155935e+15      80.000000   102.000000  2.891772e+15   \n",
            "50%      49.000000  1.581819e+16     100.000000   137.000000  1.125083e+16   \n",
            "75%      65.000000  2.589805e+16     119.000000   168.000000  1.956500e+16   \n",
            "max      79.000000  3.998860e+16     139.000000   199.000000  6.393735e+16   \n",
            "\n",
            "           Outcome  \n",
            "count  2000.000000  \n",
            "mean      0.512000  \n",
            "std       0.499981  \n",
            "min       0.000000  \n",
            "25%       0.000000  \n",
            "50%       1.000000  \n",
            "75%       1.000000  \n",
            "max       1.000000  \n",
            "Dimensiones del dataset: (2000, 6)\n",
            "Columnas: Index(['Age', 'BMI', 'BloodPressure', 'Glucose', 'Insulin', 'Outcome'], dtype='object')\n"
          ]
        },
        {
          "output_type": "display_data",
          "data": {
            "text/plain": [
              "<Figure size 800x600 with 1 Axes>"
            ],
            "image/png": "[encoded data removed]"
          },
          "metadata": {}
        },
        {
          "output_type": "stream",
          "name": "stdout",
          "text": [
            "              precision    recall  f1-score   support\n",
            "\n",
            "           0       0.47      0.33      0.39       300\n",
            "           1       0.48      0.63      0.55       300\n",
            "\n",
            "    accuracy                           0.48       600\n",
            "   macro avg       0.48      0.48      0.47       600\n",
            "weighted avg       0.48      0.48      0.47       600\n",
            "\n",
            "Exactitud del modelo: 48.00%\n"
          ]
        }
      ],
      "source": [
        "# Importar las bibliotecas necesarias\n",
        "import pandas as pd\n",
        "import numpy as np\n",
        "import matplotlib.pyplot as plt\n",
        "import seaborn as sns\n",
        "from sklearn.model_selection import train_test_split\n",
        "from sklearn.linear_model import LogisticRegression\n",
        "from sklearn.metrics import confusion_matrix, accuracy_score, classification_report\n",
        "from sklearn.preprocessing import StandardScaler\n",
        "from google.colab import drive\n",
        "\n",
        "# Montar Google Drive para acceder a los archivos\n",
        "drive.mount('/content/drive')\n",
        "\n",
        "# Cargar el dataset desde Google Drive\n",
        "df = pd.read_excel(\"/content/drive/MyDrive/Diabetes.xlsx\")\n",
        "\n",
        "# Ver las dimensiones y tipos de datos del dataset\n",
        "print(\"\\nLos datos son de tipo:\\n\", df.dtypes)\n",
        "print(df.head())\n",
        "print(df.info())\n",
        "print(df.describe())\n",
        "print(f\"Dimensiones del dataset: {df.shape}\")\n",
        "print(\"Columnas:\", df.columns)\n",
        "\n",
        "# Definir variables independientes (X) y dependiente (y)\n",
        "X = df.drop('Outcome', axis=1)  # Elimina la columna 'Outcome'\n",
        "y = df['Outcome']  # Variable objetivo 'Outcome'\n",
        "\n",
        "# Dividir los datos en conjunto de entrenamiento y prueba\n",
        "X_train, X_test, y_train, y_test = train_test_split(X, y, test_size=0.3, random_state=0)\n",
        "\n",
        "# Escalar las características (normalización de datos)\n",
        "scaler = StandardScaler()\n",
        "X_train_scaled = scaler.fit_transform(X_train)\n",
        "X_test_scaled = scaler.transform(X_test)\n",
        "\n",
        "# Inicializar el modelo de regresión logística\n",
        "model = LogisticRegression(max_iter=1000)\n",
        "model.fit(X_train_scaled, y_train)  # Entrenar el modelo\n",
        "\n",
        "# Realizar predicciones en el conjunto de prueba\n",
        "y_pred = model.predict(X_test_scaled)\n",
        "\n",
        "# Crear la matriz de confusión\n",
        "conf_matrix = confusion_matrix(y_test, y_pred)\n",
        "\n",
        "# Graficar la matriz de confusión usando Seaborn para el mapa de calor\n",
        "plt.figure(figsize=(8,6))\n",
        "sns.heatmap(conf_matrix, annot=True, fmt='d', cmap='Blues', cbar=False)\n",
        "plt.xlabel('Predicted')  # Etiqueta del eje X\n",
        "plt.ylabel('Actual')  # Etiqueta del eje Y\n",
        "plt.title('Confusion Matrix')  # Título\n",
        "plt.show()  # Mostrar la figura\n",
        "\n",
        "# Imprimir el reporte de clasificación\n",
        "print(classification_report(y_test, y_pred))\n",
        "\n",
        "# Calcular y mostrar la exactitud del modelo\n",
        "accuracy = accuracy_score(y_test, y_pred)\n",
        "print(f'Exactitud del modelo: {accuracy*100:.2f}%')"
      ]
    }
  ]
}